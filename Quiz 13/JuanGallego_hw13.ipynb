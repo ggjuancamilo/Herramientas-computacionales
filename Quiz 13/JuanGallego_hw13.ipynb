{
 "cells": [
  {
   "cell_type": "code",
   "execution_count": 7,
   "metadata": {
    "collapsed": false
   },
   "outputs": [
    {
     "name": "stdout",
     "output_type": "stream",
     "text": [
      "Populating the interactive namespace from numpy and matplotlib\n"
     ]
    }
   ],
   "source": [
    "%pylab inline"
   ]
  },
  {
   "cell_type": "code",
   "execution_count": 14,
   "metadata": {
    "collapsed": false
   },
   "outputs": [
    {
     "name": "stdout",
     "output_type": "stream",
     "text": [
      "Populating the interactive namespace from numpy and matplotlib\n"
     ]
    }
   ],
   "source": [
    "%pylab inline\n",
    "import scipy.stats\n",
    "def RanSum(N):\n",
    "    i=0\n",
    "    sum=0.\n",
    "    for i in range(N):\n",
    "        sum+=random.random()\n",
    "    return sum\n",
    "def lanzamientos(M,N):\n",
    "    tiros=[]\n",
    "    for i in range(M):\n",
    "        tiros.append(RanSum(N))\n",
    "    return tiros\n",
    "def coinflip(N):  \n",
    "    cara = 0\n",
    "    sello = 0\n",
    "    i=0\n",
    "    while i < N:\n",
    "        x = np.random.randint(0, 10)/5.0\n",
    "        if x >= 1.0:\n",
    "            cara+=1\n",
    "        elif x<1.0:\n",
    "            sello+=1\n",
    "        i+=1\n",
    "    return cara, sello\n",
    "def realizaciones(M, N):\n",
    "    caras=[]\n",
    "    for i in range(M):\n",
    "        x, y = coinflip(N)\n",
    "        caras.append(x)\n",
    "    return caras\n"
   ]
  },
  {
   "cell_type": "code",
   "execution_count": 37,
   "metadata": {
    "collapsed": false
   },
   "outputs": [
    {
     "data": {
      "image/png": "[encoded data removed]",
      "text/plain": [
       "<matplotlib.figure.Figure at 0x7f98f889e510>"
      ]
     },
     "metadata": {},
     "output_type": "display_data"
    }
   ],
   "source": [
    "x = lanzamientos(10000,10)\n",
    "plt.hist(x, bins = 25)\n",
    "show()"
   ]
  },
  {
   "cell_type": "code",
   "execution_count": 41,
   "metadata": {
    "collapsed": true
   },
   "outputs": [],
   "source": [
    "data , cols = np.histogram(x, bins = 30)"
   ]
  },
  {
   "cell_type": "code",
   "execution_count": 42,
   "metadata": {
    "collapsed": false
   },
   "outputs": [],
   "source": [
    "col_cent = zeros(30)\n",
    "for i in range(30):\n",
    "    col_cent[i] = (cols[i+1] + cols[i])/2"
   ]
  },
  {
   "cell_type": "code",
   "execution_count": 43,
   "metadata": {
    "collapsed": false
   },
   "outputs": [
    {
     "data": {
      "text/plain": [
       "array([   1,    0,    2,    3,   19,   38,   84,  124,  219,  339,  522,\n",
       "        630,  830,  967, 1045, 1038,  969,  852,  728,  581,  416,  230,\n",
       "        172,   90,   56,   31,    6,    5,    2,    1])"
      ]
     },
     "execution_count": 43,
     "metadata": {},
     "output_type": "execute_result"
    }
   ],
   "source": [
    "data"
   ]
  },
  {
   "cell_type": "code",
   "execution_count": 44,
   "metadata": {
    "collapsed": false
   },
   "outputs": [
    {
     "data": {
      "text/plain": [
       "<matplotlib.collections.PathCollection at 0x7f98f8b16210>"
      ]
     },
     "execution_count": 44,
     "metadata": {},
     "output_type": "execute_result"
    },
    {
     "data": {
      "image/png": "[encoded data removed]",
      "text/plain": [
       "<matplotlib.figure.Figure at 0x7f98f861ae50>"
      ]
     },
     "metadata": {},
     "output_type": "display_data"
    }
   ],
   "source": [
    "plt.scatter(col_cent,data)"
   ]
  },
  {
   "cell_type": "code",
   "execution_count": 45,
   "metadata": {
    "collapsed": true
   },
   "outputs": [],
   "source": [
    "from scipy.optimize import curve_fit"
   ]
  },
  {
   "cell_type": "code",
   "execution_count": 46,
   "metadata": {
    "collapsed": true
   },
   "outputs": [],
   "source": [
    "def gaussiana(x, ampl, x_0, sigma):\n",
    "    return ampl*exp( -(x-x_0)**2/sigma )"
   ]
  },
  {
   "cell_type": "code",
   "execution_count": 54,
   "metadata": {
    "collapsed": false
   },
   "outputs": [
    {
     "name": "stdout",
     "output_type": "stream",
     "text": [
      "[ 1049.6575906      5.01503193     1.71003341] [[  4.95692630e+01  -2.59739201e-08  -1.07674262e-01]\n",
      " [ -2.59739201e-08   5.12896391e-05   1.90205940e-10]\n",
      " [ -1.07674262e-01   1.90205940e-10   7.01664469e-04]]\n"
     ]
    }
   ],
   "source": [
    "popt, pcov = curve_fit(gaussiana, col_cent,data,p0=[1000.,5.,3.])\n",
    "print popt, pcov"
   ]
  },
  {
   "cell_type": "code",
   "execution_count": 55,
   "metadata": {
    "collapsed": false
   },
   "outputs": [
    {
     "data": {
      "text/plain": [
       "<function matplotlib.pyplot.scatter>"
      ]
     },
     "execution_count": 55,
     "metadata": {},
     "output_type": "execute_result"
    }
   ],
   "source": [
    "y_opt = gaussiana( col_cent, popt[0], popt[1],  popt[2])\n",
    "scatter"
   ]
  },
  {
   "cell_type": "code",
   "execution_count": 56,
   "metadata": {
    "collapsed": false
   },
   "outputs": [
    {
     "data": {
      "text/plain": [
       "<matplotlib.collections.PathCollection at 0x7f98f88a3f50>"
      ]
     },
     "execution_count": 56,
     "metadata": {},
     "output_type": "execute_result"
    },
    {
     "data": {
      "image/png": "[encoded data removed]",
      "text/plain": [
       "<matplotlib.figure.Figure at 0x7f98f8a367d0>"
      ]
     },
     "metadata": {},
     "output_type": "display_data"
    }
   ],
   "source": [
    "plt.scatter(col_cent,y_opt)"
   ]
  },
  {
   "cell_type": "code",
   "execution_count": null,
   "metadata": {
    "collapsed": true
   },
   "outputs": [],
   "source": []
  }
 ],
 "metadata": {
  "kernelspec": {
   "display_name": "Python 2",
   "language": "python",
   "name": "python2"
  },
  "language_info": {
   "codemirror_mode": {
    "name": "ipython",
    "version": 2
   },
   "file_extension": ".py",
   "mimetype": "text/x-python",
   "name": "python",
   "nbconvert_exporter": "python",
   "pygments_lexer": "ipython2",
   "version": "2.7.6"
  }
 },
 "nbformat": 4,
 "nbformat_minor": 0
}

{
 "cells": [
  {
   "cell_type": "code",
   "execution_count": 70,
   "metadata": {
    "collapsed": true
   },
   "outputs": [],
   "source": [
    "import baloncito"
   ]
  },
  {
   "cell_type": "code",
   "execution_count": 71,
   "metadata": {
    "collapsed": true
   },
   "outputs": [],
   "source": [
    "pelota=baloncito.Balon(0.0,4.0,0.453)"
   ]
  },
  {
   "cell_type": "code",
   "execution_count": 72,
   "metadata": {
    "collapsed": false
   },
   "outputs": [],
   "source": [
    "pelota.calculaFuerza()"
   ]
  },
  {
   "cell_type": "code",
   "execution_count": 73,
   "metadata": {
    "collapsed": true
   },
   "outputs": [],
   "source": [
    "t=0.0"
   ]
  },
  {
   "cell_type": "code",
   "execution_count": 74,
   "metadata": {
    "collapsed": true
   },
   "outputs": [],
   "source": [
    "Deltat=0.01"
   ]
  },
  {
   "cell_type": "code",
   "execution_count": 75,
   "metadata": {
    "collapsed": false,
    "scrolled": true
   },
   "outputs": [
    {
     "name": "stdout",
     "output_type": "stream",
     "text": [
      "Populating the interactive namespace from numpy and matplotlib\n"
     ]
    }
   ],
   "source": [
    "%pylab inline"
   ]
  },
  {
   "cell_type": "code",
   "execution_count": 76,
   "metadata": {
    "collapsed": true
   },
   "outputs": [],
   "source": [
    "x1 = []\n",
    "x2 = []\n",
    "x3 = []\n",
    "x4 = []\n",
    "\n",
    "y1 = []\n",
    "y2 = []\n",
    "y3 = []\n",
    "y4 = []"
   ]
  },
  {
   "cell_type": "code",
   "execution_count": null,
   "metadata": {
    "collapsed": true
   },
   "outputs": [],
   "source": []
  },
  {
   "cell_type": "code",
   "execution_count": 77,
   "metadata": {
    "collapsed": false
   },
   "outputs": [],
   "source": [
    "while t<1.0:\n",
    "    x1.append(t), y1.append(getattr(pelota, 'y'))  #pelota.imprime(t)\n",
    "    pelota.muevete(Deltat)\n",
    "    t+=Deltat\n"
   ]
  },
  {
   "cell_type": "code",
   "execution_count": 78,
   "metadata": {
    "collapsed": true
   },
   "outputs": [],
   "source": [
    "t=0.0"
   ]
  },
  {
   "cell_type": "code",
   "execution_count": 79,
   "metadata": {
    "collapsed": true
   },
   "outputs": [],
   "source": [
    "while t<2.0:\n",
    "    x2.append(t), y2.append(getattr(pelota, 'y'))  #pelota.imprime(t)\n",
    "    pelota.muevete(Deltat)\n",
    "    t+=Deltat"
   ]
  },
  {
   "cell_type": "code",
   "execution_count": 80,
   "metadata": {
    "collapsed": true
   },
   "outputs": [],
   "source": [
    "t=0.0"
   ]
  },
  {
   "cell_type": "code",
   "execution_count": 81,
   "metadata": {
    "collapsed": true
   },
   "outputs": [],
   "source": [
    "while t<3.0:\n",
    "    x3.append(t), y3.append(getattr(pelota, 'y'))  #pelota.imprime(t)\n",
    "    pelota.muevete(Deltat)\n",
    "    t+=Deltat"
   ]
  },
  {
   "cell_type": "code",
   "execution_count": 82,
   "metadata": {
    "collapsed": true
   },
   "outputs": [],
   "source": [
    "t=0.0"
   ]
  },
  {
   "cell_type": "code",
   "execution_count": 83,
   "metadata": {
    "collapsed": true
   },
   "outputs": [],
   "source": [
    "while t<0.50:\n",
    "    x4.append(t), y4.append(getattr(pelota, 'y'))  #pelota.imprime(t)\n",
    "    pelota.muevete(Deltat)\n",
    "    t+=Deltat"
   ]
  },
  {
   "cell_type": "code",
   "execution_count": 84,
   "metadata": {
    "collapsed": false,
    "scrolled": true
   },
   "outputs": [
    {
     "data": {
      "text/plain": [
       "[0.0,\n",
       " 0.01,\n",
       " 0.02,\n",
       " 0.03,\n",
       " 0.04,\n",
       " 0.05,\n",
       " 0.060000000000000005,\n",
       " 0.07,\n",
       " 0.08,\n",
       " 0.09,\n",
       " 0.09999999999999999,\n",
       " 0.10999999999999999,\n",
       " 0.11999999999999998,\n",
       " 0.12999999999999998,\n",
       " 0.13999999999999999,\n",
       " 0.15,\n",
       " 0.16,\n",
       " 0.17,\n",
       " 0.18000000000000002,\n",
       " 0.19000000000000003,\n",
       " 0.20000000000000004,\n",
       " 0.21000000000000005,\n",
       " 0.22000000000000006,\n",
       " 0.23000000000000007,\n",
       " 0.24000000000000007,\n",
       " 0.25000000000000006,\n",
       " 0.26000000000000006,\n",
       " 0.2700000000000001,\n",
       " 0.2800000000000001,\n",
       " 0.2900000000000001,\n",
       " 0.3000000000000001,\n",
       " 0.3100000000000001,\n",
       " 0.3200000000000001,\n",
       " 0.3300000000000001,\n",
       " 0.34000000000000014,\n",
       " 0.35000000000000014,\n",
       " 0.36000000000000015,\n",
       " 0.37000000000000016,\n",
       " 0.38000000000000017,\n",
       " 0.3900000000000002,\n",
       " 0.4000000000000002,\n",
       " 0.4100000000000002,\n",
       " 0.4200000000000002,\n",
       " 0.4300000000000002,\n",
       " 0.4400000000000002,\n",
       " 0.45000000000000023,\n",
       " 0.46000000000000024,\n",
       " 0.47000000000000025,\n",
       " 0.48000000000000026,\n",
       " 0.49000000000000027,\n",
       " 0.5000000000000002,\n",
       " 0.5100000000000002,\n",
       " 0.5200000000000002,\n",
       " 0.5300000000000002,\n",
       " 0.5400000000000003,\n",
       " 0.5500000000000003,\n",
       " 0.5600000000000003,\n",
       " 0.5700000000000003,\n",
       " 0.5800000000000003,\n",
       " 0.5900000000000003,\n",
       " 0.6000000000000003,\n",
       " 0.6100000000000003,\n",
       " 0.6200000000000003,\n",
       " 0.6300000000000003,\n",
       " 0.6400000000000003,\n",
       " 0.6500000000000004,\n",
       " 0.6600000000000004,\n",
       " 0.6700000000000004,\n",
       " 0.6800000000000004,\n",
       " 0.6900000000000004,\n",
       " 0.7000000000000004,\n",
       " 0.7100000000000004,\n",
       " 0.7200000000000004,\n",
       " 0.7300000000000004,\n",
       " 0.7400000000000004,\n",
       " 0.7500000000000004,\n",
       " 0.7600000000000005,\n",
       " 0.7700000000000005,\n",
       " 0.7800000000000005,\n",
       " 0.7900000000000005,\n",
       " 0.8000000000000005,\n",
       " 0.8100000000000005,\n",
       " 0.8200000000000005,\n",
       " 0.8300000000000005,\n",
       " 0.8400000000000005,\n",
       " 0.8500000000000005,\n",
       " 0.8600000000000005,\n",
       " 0.8700000000000006,\n",
       " 0.8800000000000006,\n",
       " 0.8900000000000006,\n",
       " 0.9000000000000006,\n",
       " 0.9100000000000006,\n",
       " 0.9200000000000006,\n",
       " 0.9300000000000006,\n",
       " 0.9400000000000006,\n",
       " 0.9500000000000006,\n",
       " 0.9600000000000006,\n",
       " 0.9700000000000006,\n",
       " 0.9800000000000006,\n",
       " 0.9900000000000007]"
      ]
     },
     "execution_count": 84,
     "metadata": {},
     "output_type": "execute_result"
    }
   ],
   "source": [
    "x1"
   ]
  },
  {
   "cell_type": "code",
   "execution_count": 85,
   "metadata": {
    "collapsed": false
   },
   "outputs": [
    {
     "data": {
      "text/plain": [
       "[<matplotlib.lines.Line2D at 0x7fb386e60bd0>]"
      ]
     },
     "execution_count": 85,
     "metadata": {},
     "output_type": "execute_result"
    },
    {
     "data": {
      "image/png": "[encoded data removed]",
      "text/plain": [
       "<matplotlib.figure.Figure at 0x7fb386fa3850>"
      ]
     },
     "metadata": {},
     "output_type": "display_data"
    }
   ],
   "source": [
    "plot(x1,y1)"
   ]
  },
  {
   "cell_type": "code",
   "execution_count": 86,
   "metadata": {
    "collapsed": false,
    "scrolled": true
   },
   "outputs": [
    {
     "data": {
      "text/plain": [
       "[<matplotlib.lines.Line2D at 0x7fb386d972d0>]"
      ]
     },
     "execution_count": 86,
     "metadata": {},
     "output_type": "execute_result"
    },
    {
     "data": {
      "image/png": "[encoded data removed]",
      "text/plain": [
       "<matplotlib.figure.Figure at 0x7fb386e122d0>"
      ]
     },
     "metadata": {},
     "output_type": "display_data"
    }
   ],
   "source": [
    "plot(x2,y2)"
   ]
  },
  {
   "cell_type": "code",
   "execution_count": 87,
   "metadata": {
    "collapsed": false
   },
   "outputs": [
    {
     "data": {
      "text/plain": [
       "[<matplotlib.lines.Line2D at 0x7fb386d3bc50>]"
      ]
     },
     "execution_count": 87,
     "metadata": {},
     "output_type": "execute_result"
    },
    {
     "data": {
      "image/png": "[encoded data removed]",
      "text/plain": [
       "<matplotlib.figure.Figure at 0x7fb386f16d10>"
      ]
     },
     "metadata": {},
     "output_type": "display_data"
    }
   ],
   "source": [
    "plot(x3,y3)"
   ]
  },
  {
   "cell_type": "code",
   "execution_count": 88,
   "metadata": {
    "collapsed": false
   },
   "outputs": [
    {
     "data": {
      "text/plain": [
       "[<matplotlib.lines.Line2D at 0x7fb386c725d0>]"
      ]
     },
     "execution_count": 88,
     "metadata": {},
     "output_type": "execute_result"
    },
    {
     "data": {
      "image/png": "[encoded data removed]",
      "text/plain": [
       "<matplotlib.figure.Figure at 0x7fb386dda150>"
      ]
     },
     "metadata": {},
     "output_type": "display_data"
    }
   ],
   "source": [
    "plot(x4,y4)"
   ]
  },
  {
   "cell_type": "code",
   "execution_count": null,
   "metadata": {
    "collapsed": true
   },
   "outputs": [],
   "source": []
  },
  {
   "cell_type": "code",
   "execution_count": null,
   "metadata": {
    "collapsed": true
   },
   "outputs": [],
   "source": []
  },
  {
   "cell_type": "code",
   "execution_count": null,
   "metadata": {
    "collapsed": true
   },
   "outputs": [],
   "source": []
  },
  {
   "cell_type": "code",
   "execution_count": null,
   "metadata": {
    "collapsed": true
   },
   "outputs": [],
   "source": []
  },
  {
   "cell_type": "code",
   "execution_count": null,
   "metadata": {
    "collapsed": true
   },
   "outputs": [],
   "source": []
  }
 ],
 "metadata": {
  "kernelspec": {
   "display_name": "Python 2",
   "language": "python",
   "name": "python2"
  },
  "language_info": {
   "codemirror_mode": {
    "name": "ipython",
    "version": 2
   },
   "file_extension": ".py",
   "mimetype": "text/x-python",
   "name": "python",
   "nbconvert_exporter": "python",
   "pygments_lexer": "ipython2",
   "version": "2.7.6"
  }
 },
 "nbformat": 4,
 "nbformat_minor": 0
}
